{
 "cells": [
  {
   "cell_type": "markdown",
   "metadata": {},
   "source": [
    "Gravity unit: show your work on how gravity change with increasing distance between gravimetry and rock"
   ]
  },
  {
   "cell_type": "code",
   "execution_count": null,
   "metadata": {},
   "outputs": [],
   "source": [
    "G = 6.674*pow(10, -11)\n",
    "m = 5.972*pow(10, 24)\n",
    "rho = 3000\n",
    "v = 1200*1000*1000\n",
    "r = 1000\n",
    "g = (G*rho*v)/pow(r, 2)\n",
    "gal = g*0.01 # unit gal\n",
    "mgal = gal*pow(10, 6) # unit gal\n",
    "print(mgal)"
   ]
  }
 ],
 "metadata": {
  "kernelspec": {
   "display_name": "Python 3.10.4 64-bit",
   "language": "python",
   "name": "python3"
  },
  "language_info": {
   "name": "python",
   "version": "3.10.6"
  },
  "orig_nbformat": 4,
  "vscode": {
   "interpreter": {
    "hash": "916dbcbb3f70747c44a77c7bcd40155683ae19c65e1c03b4aa3499c5328201f1"
   }
  }
 },
 "nbformat": 4,
 "nbformat_minor": 2
}
