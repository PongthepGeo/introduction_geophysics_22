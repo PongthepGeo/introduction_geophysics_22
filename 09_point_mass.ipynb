{
 "cells": [
  {
   "cell_type": "markdown",
   "metadata": {},
   "source": [
    "#### Point mass"
   ]
  }
 ],
 "metadata": {
  "kernelspec": {
   "display_name": "project_geophysics",
   "language": "python",
   "name": "project_geophysics"
  },
  "language_info": {
   "name": "python",
   "version": "3.10.4"
  },
  "orig_nbformat": 4,
  "vscode": {
   "interpreter": {
    "hash": "916dbcbb3f70747c44a77c7bcd40155683ae19c65e1c03b4aa3499c5328201f1"
   }
  }
 },
 "nbformat": 4,
 "nbformat_minor": 2
}
