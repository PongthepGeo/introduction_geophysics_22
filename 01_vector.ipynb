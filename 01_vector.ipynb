{
 "cells": [
  {
   "cell_type": "markdown",
   "metadata": {},
   "source": [
    "#### Scalar, function, vector, and matrix\n",
    "\n",
    "We will relate terminologies such as function, scalar, vector, and matrix to our field, geophysics."
   ]
  },
  {
   "cell_type": "markdown",
   "metadata": {},
   "source": [
    "##### 1. Scalar\n",
    "\n",
    "Scalar in geophysics is likely to be a single value, e.g., $$\\displaystyle f=m\\times a\\Rightarrow 50\\times 9.81$$\n",
    "\n",
    "Number 50 calls scalar."
   ]
  },
  {
   "cell_type": "markdown",
   "metadata": {},
   "source": [
    "##### 2. Vector\n",
    "\n",
    "Let us start with function, $ f(x, y) $, plug in number, $ f(2, 9) $. Geophysics read this function as a vector $\\displaystyle 2\\mathbf{i} +9\\mathbf{j}$ or $f⟨2, 9⟩$. In geophysics, we may refer to $f(2, 9)$ as a data point.  \n"
   ]
  },
  {
   "cell_type": "code",
   "execution_count": 1,
   "metadata": {},
   "outputs": [],
   "source": [
    "import numpy as np\n",
    "import matplotlib.pyplot as plt"
   ]
  },
  {
   "cell_type": "code",
   "execution_count": null,
   "metadata": {},
   "outputs": [],
   "source": [
    "f = np.array([2, 9])\n",
    "plt.scatter(2, 9, s=500, color='orange', edgecolor='black', linewidths=5)"
   ]
  },
  {
   "cell_type": "markdown",
   "metadata": {},
   "source": [
    "Or refer as a vector, $\\displaystyle 2\\mathbf{i} +9\\mathbf{j}$."
   ]
  },
  {
   "cell_type": "code",
   "execution_count": null,
   "metadata": {},
   "outputs": [],
   "source": [
    "plt.quiver(0, 0, f[0], f[1], color='orange', angles='xy', scale_units='xy', scale=1)\n",
    "plt.xlim(-2, 4)\n",
    "plt.ylim(-2, 11)"
   ]
  },
  {
   "cell_type": "markdown",
   "metadata": {},
   "source": [
    "Computer programing input data as numbers with direction such as vector. However, the stored data can access by indexing which can refer as a vector as well.\n",
    "\n",
    "$$\n",
    "\n",
    "\\begin{align*}\n",
    "column\\ vector:\\  & & \\begin{bmatrix}\n",
    "8\\\\\n",
    "-1\\\\\n",
    "2\\\\\n",
    "8.1\n",
    "\\end{bmatrix}, \\ \\begin{bmatrix}\n",
    "4\\\\\n",
    "-9\\\\\n",
    "10\n",
    "\\end{bmatrix}, \\ \\begin{bmatrix}\n",
    "4\\\\\n",
    "-6.2\n",
    "\\end{bmatrix} \\ \\\\\n",
    " & & \\\\\n",
    "row\\ vector:\\  & & \\begin{bmatrix}\n",
    "8 & -1 & 2 & 8.1\n",
    "\\end{bmatrix} ,\\ \\begin{bmatrix}\n",
    "4 & -9 & 10\n",
    "\\end{bmatrix} ,\\ \\begin{bmatrix}\n",
    "4 & -6.2\n",
    "\\end{bmatrix}\n",
    "\\end{align*}\n",
    "$$"
   ]
  },
  {
   "cell_type": "code",
   "execution_count": null,
   "metadata": {},
   "outputs": [],
   "source": [
    "u = [8, -1, 2, 8.1] # list\n",
    "y = np.array([8, -1, 2, 8.1]) # array no orientation\n",
    "w = np.array([ [8], [-1], [2], [8.1] ]) # column vector\n",
    "x = np.array([ [8, -1, 2, 8.1] ]) # row vector\n",
    "print('list: ', u)\n",
    "print('array no orientation: ', v)\n",
    "print('column vector: ', w)\n",
    "print('row vector: ', x)"
   ]
  },
  {
   "cell_type": "markdown",
   "metadata": {},
   "source": [
    "##### 2.1 Vector addition"
   ]
  },
  {
   "cell_type": "code",
   "execution_count": null,
   "metadata": {},
   "outputs": [],
   "source": [
    "u = np.array([5, 14])\n",
    "v = np.array([-1, 7])\n",
    "\n",
    "plt.quiver(0, 0, u[0], u[1], color='orange', angles='xy', scale_units='xy', scale=1)\n",
    "plt.quiver(0, 0, v[0], v[1], color='green', angles='xy', scale_units='xy', scale=1)\n",
    "plt.xlim(-5, 10)\n",
    "plt.ylim(-5, 18)\n",
    "plt.title('vector at origin')"
   ]
  },
  {
   "cell_type": "code",
   "execution_count": null,
   "metadata": {},
   "outputs": [],
   "source": [
    "total = u + v\n",
    "print('sum vectors: ', total)\n",
    "\n",
    "plt.quiver(0, 0, u[0], u[1], color='orange', angles='xy', scale_units='xy', scale=1)\n",
    "plt.quiver(0, 0, v[0], v[1], color='green', angles='xy', scale_units='xy', scale=1)\n",
    "plt.quiver(0, 0, total[0], total[1], color='red', angles='xy', scale_units='xy', scale=1)\n",
    "plt.xlim(-5, 10)\n",
    "plt.ylim(-5, 25)\n",
    "plt.title('sum vector')"
   ]
  },
  {
   "cell_type": "code",
   "execution_count": null,
   "metadata": {},
   "outputs": [],
   "source": [
    "plt.quiver(0, 0, u[0], u[1], color='orange', angles='xy', scale_units='xy', scale=1)\n",
    "plt.quiver(u[0], u[1], v[0], v[1], color='green', angles='xy', scale_units='xy', scale=1)\n",
    "plt.quiver(0, 0, total[0], total[1], color='red', angles='xy', scale_units='xy', scale=1)\n",
    "plt.xlim(-5, 10)\n",
    "plt.ylim(-5, 25)\n",
    "plt.title('sum vector - tail to head')"
   ]
  },
  {
   "cell_type": "markdown",
   "metadata": {},
   "source": [
    "##### 2.3 Magnitude of vector (length of vector)"
   ]
  },
  {
   "cell_type": "code",
   "execution_count": null,
   "metadata": {},
   "outputs": [],
   "source": [
    "import math \n",
    "\n",
    "def mag(x): \n",
    "    return math.sqrt(sum(i**2 for i in x))\n",
    "\n",
    "magnitude = mag(total)\n",
    "print('magtitude of vectors u and v: ', magnitude)"
   ]
  },
  {
   "cell_type": "markdown",
   "metadata": {},
   "source": [
    "##### 3. Unit vector\n",
    "\n",
    "$$\n",
    "\\begin{align*}\n",
    "\\hat{\\mathbf{v}} & =\\frac{1}{\\| \\mathbf{v} \\| }\\mathbf{v} =\\frac{1}{\\sqrt{\\sum _{i=1}^{n} v_{i}^{2}}}\\mathbf{v}\\\\\n",
    " & \\\\\n",
    "\\mathbf{v} & =\\ 3\\mathbf{i} +5\\mathbf{j}\\\\\n",
    "\\hat{\\mathbf{v}} & =\\frac{3\\mathbf{i}}{\\sqrt{3^{2} +5^{2}}} +\\frac{5\\mathbf{j}}{\\sqrt{3^{2} +5^{2}}}\\\\\n",
    " & =0.514\\mathbf{i} +0.857\\mathbf{j}\n",
    "\\end{align*}\n",
    "$$"
   ]
  },
  {
   "cell_type": "code",
   "execution_count": 5,
   "metadata": {},
   "outputs": [
    {
     "name": "stdout",
     "output_type": "stream",
     "text": [
      "unit vector of vector v:  [0.51449576 0.85749293]\n"
     ]
    },
    {
     "data": {
      "text/plain": [
       "Text(0.5, 1.0, 'unit vector')"
      ]
     },
     "execution_count": 5,
     "metadata": {},
     "output_type": "execute_result"
    },
    {
     "data": {
      "image/png": "[encoded data removed]",
      "text/plain": [
       "<Figure size 640x480 with 1 Axes>"
      ]
     },
     "metadata": {},
     "output_type": "display_data"
    }
   ],
   "source": [
    "def unit_vector(v):\n",
    "\tmag = np.linalg.norm(v)\n",
    "\treturn v/mag\n",
    "\n",
    "v = np.array([3, 5])\n",
    "Uv = unit_vector(v)\n",
    "print('unit vector of vector v: ', Uv)\n",
    "\n",
    "plt.quiver(0, 0, v[0], v[1], color='orange', angles='xy', scale_units='xy', scale=1)\n",
    "plt.quiver(0, 0, Uv[0], Uv[1], color='green', angles='xy', scale_units='xy', scale=1)\n",
    "plt.xlim(-2, 10)\n",
    "plt.ylim(-2, 10)\n",
    "plt.title('unit vector')"
   ]
  }
 ],
 "metadata": {
  "kernelspec": {
   "display_name": "Python 3.10.6 64-bit",
   "language": "python",
   "name": "python3"
  },
  "language_info": {
   "codemirror_mode": {
    "name": "ipython",
    "version": 3
   },
   "file_extension": ".py",
   "mimetype": "text/x-python",
   "name": "python",
   "nbconvert_exporter": "python",
   "pygments_lexer": "ipython3",
   "version": "3.10.6"
  },
  "orig_nbformat": 4,
  "vscode": {
   "interpreter": {
    "hash": "916dbcbb3f70747c44a77c7bcd40155683ae19c65e1c03b4aa3499c5328201f1"
   }
  }
 },
 "nbformat": 4,
 "nbformat_minor": 2
}
